{
 "cells": [
  {
   "cell_type": "code",
   "execution_count": 1,
   "metadata": {},
   "outputs": [
    {
     "name": "stderr",
     "output_type": "stream",
     "text": [
      "/Users/championlin/anaconda3/lib/python3.6/site-packages/h5py/__init__.py:34: FutureWarning: Conversion of the second argument of issubdtype from `float` to `np.floating` is deprecated. In future, it will be treated as `np.float64 == np.dtype(float).type`.\n",
      "  from ._conv import register_converters as _register_converters\n"
     ]
    },
    {
     "name": "stdout",
     "output_type": "stream",
     "text": [
      "Extracting MNIST_data/train-images-idx3-ubyte.gz\n",
      "Extracting MNIST_data/train-labels-idx1-ubyte.gz\n",
      "Extracting MNIST_data/t10k-images-idx3-ubyte.gz\n",
      "Extracting MNIST_data/t10k-labels-idx1-ubyte.gz\n"
     ]
    }
   ],
   "source": [
    "import tensorflow as tf\n",
    "from tensorflow.examples.tutorials.mnist import input_data\n",
    "\n",
    "mnist = input_data.read_data_sets(\"MNIST_data/\", one_hot=True)"
   ]
  },
  {
   "cell_type": "code",
   "execution_count": 2,
   "metadata": {},
   "outputs": [],
   "source": [
    "test_x = mnist.test.images[:2000]\n",
    "test_y = mnist.test.labels[:2000]"
   ]
  },
  {
   "cell_type": "code",
   "execution_count": 3,
   "metadata": {
    "collapsed": true
   },
   "outputs": [],
   "source": [
    "n_step = 28\n",
    "n_input = 28\n",
    "batch_size = 64\n",
    "n_class = 10"
   ]
  },
  {
   "cell_type": "code",
   "execution_count": 4,
   "metadata": {},
   "outputs": [],
   "source": [
    "x = tf.placeholder(dtype=tf.float32, shape=[None, n_step * n_input]) #input an image \n",
    "images = tf.reshape(x, [-1, n_step, n_input])\n",
    "y = tf.placeholder(dtype=tf.int32, shape=[None, 10])"
   ]
  },
  {
   "cell_type": "code",
   "execution_count": 5,
   "metadata": {},
   "outputs": [],
   "source": [
    "# RNN\n",
    "rnn_cell = tf.contrib.rnn.LSTMCell(num_units=64)\n",
    "# defining initial state\n",
    "# initial_state = rnn_cell.zero_state(batch_size, dtype=tf.float32)\n",
    "# 'state' is a tensor of shape [batch_size, cell_state_size]\n",
    "outputs, state = tf.nn.dynamic_rnn(cell=rnn_cell, inputs=images,\n",
    "                                   initial_state=None,\n",
    "                                   dtype=tf.float32)\n",
    "preds = tf.layers.dense(inputs=outputs[:, -1, :], units=n_class, activation=tf.nn.softmax)"
   ]
  },
  {
   "cell_type": "code",
   "execution_count": 6,
   "metadata": {},
   "outputs": [],
   "source": [
    "loss = tf.nn.softmax_cross_entropy_with_logits_v2(labels=y, logits=preds)\n",
    "optimizer = tf.train.AdamOptimizer(learning_rate = 0.001)\n",
    "train = optimizer.minimize(loss)\n",
    "\n",
    "accuracy = tf.metrics.accuracy(          # return (acc, update_op), and create 2 local variables\n",
    "    labels=tf.argmax(y, axis=1), predictions=tf.argmax(preds, axis=1),)[1]"
   ]
  },
  {
   "cell_type": "code",
   "execution_count": 7,
   "metadata": {},
   "outputs": [
    {
     "name": "stdout",
     "output_type": "stream",
     "text": [
      "0.103\n",
      "0.23775\n",
      "0.32433334\n",
      "0.399875\n",
      "0.4437\n",
      "0.48841667\n",
      "0.5257143\n",
      "0.5540625\n",
      "0.57816666\n",
      "0.5956\n",
      "0.60972726\n",
      "0.62425\n",
      "0.641\n",
      "0.6565\n",
      "0.6699333\n",
      "0.681125\n",
      "0.69211763\n",
      "0.69972223\n",
      "0.70971054\n",
      "0.718825\n",
      "0.72716665\n",
      "0.7349091\n",
      "0.74219567\n",
      "0.7475208\n"
     ]
    }
   ],
   "source": [
    "sess = tf.Session()\n",
    "init_g = tf.global_variables_initializer()\n",
    "init_l = tf.local_variables_initializer()\n",
    "sess.run(init_g)\n",
    "sess.run(init_l)\n",
    "for step in range(1200):\n",
    "    x_input, y_label = mnist.train.next_batch(batch_size)\n",
    "    sess.run(train, feed_dict = {x : x_input, y : y_label})\n",
    "    if step % 50 == 0:\n",
    "        print(sess.run(accuracy, feed_dict = {x : test_x, y : test_y}))"
   ]
  },
  {
   "cell_type": "code",
   "execution_count": null,
   "metadata": {
    "collapsed": true
   },
   "outputs": [],
   "source": [
    "% save RNN_mni"
   ]
  }
 ],
 "metadata": {
  "kernelspec": {
   "display_name": "Python 3",
   "language": "python",
   "name": "python3"
  },
  "language_info": {
   "codemirror_mode": {
    "name": "ipython",
    "version": 3
   },
   "file_extension": ".py",
   "mimetype": "text/x-python",
   "name": "python",
   "nbconvert_exporter": "python",
   "pygments_lexer": "ipython3",
   "version": "3.6.3"
  }
 },
 "nbformat": 4,
 "nbformat_minor": 2
}
