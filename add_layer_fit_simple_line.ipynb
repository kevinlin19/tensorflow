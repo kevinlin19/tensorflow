{
 "cells": [
  {
   "cell_type": "code",
   "execution_count": 1,
   "metadata": {},
   "outputs": [
    {
     "name": "stderr",
     "output_type": "stream",
     "text": [
      "/Users/championlin/anaconda3/lib/python3.6/site-packages/h5py/__init__.py:34: FutureWarning: Conversion of the second argument of issubdtype from `float` to `np.floating` is deprecated. In future, it will be treated as `np.float64 == np.dtype(float).type`.\n",
      "  from ._conv import register_converters as _register_converters\n"
     ]
    }
   ],
   "source": [
    "import tensorflow as tf\n",
    "import numpy as np\n",
    "import matplotlib.pyplot as plt\n",
    "\n",
    "# import time"
   ]
  },
  {
   "cell_type": "code",
   "execution_count": 2,
   "metadata": {
    "collapsed": true
   },
   "outputs": [],
   "source": [
    "def add_layer(data, input_size, output_size, activation = None):\n",
    "    Weights = tf.Variable(tf.random_normal(shape=[input_size, output_size]))\n",
    "    biases = tf.zeros(shape=[1, output_size]) + 0.1\n",
    "    Wx_plus_biases = tf.matmul(data, Weights) + biases\n",
    "    \n",
    "    if activation == None:\n",
    "        output = Wx_plus_biases\n",
    "    else:\n",
    "        output = activation(Wx_plus_biases)\n",
    "        \n",
    "    return output"
   ]
  },
  {
   "cell_type": "code",
   "execution_count": 3,
   "metadata": {
    "collapsed": true
   },
   "outputs": [],
   "source": [
    "x_data = np.linspace(-1, 1, 300, dtype=np.float32)[:, np.newaxis]\n",
    "noise = np.random.normal(0, 0.05, x_data.shape).astype(np.float32)\n",
    "y_data = np.square(x_data) + 0.5 + noise"
   ]
  },
  {
   "cell_type": "code",
   "execution_count": 4,
   "metadata": {},
   "outputs": [
    {
     "name": "stdout",
     "output_type": "stream",
     "text": [
      "(300, 1)\n",
      "(300, 1)\n"
     ]
    }
   ],
   "source": [
    "print(x_data.shape)\n",
    "print(y_data.shape)"
   ]
  },
  {
   "cell_type": "markdown",
   "metadata": {},
   "source": [
    "---------------"
   ]
  },
  {
   "cell_type": "code",
   "execution_count": 5,
   "metadata": {
    "collapsed": true
   },
   "outputs": [],
   "source": [
    "#1 input_layer 1 hidden_layer with 10 neurun 1 output_layer"
   ]
  },
  {
   "cell_type": "code",
   "execution_count": 6,
   "metadata": {
    "collapsed": true
   },
   "outputs": [],
   "source": [
    "xs = tf.placeholder(dtype=tf.float32, shape=[None, 1])\n",
    "ys = tf.placeholder(dtype=tf.float32, shape=[None, 1])\n",
    "\n",
    "l1 = add_layer(xs, 1, 10, activation=tf.nn.relu)\n",
    "prediction = add_layer(l1, 10, 1, activation=None)\n",
    "\n",
    "loss = tf.reduce_mean(tf.reduce_sum(tf.square(ys - prediction), reduction_indices=[1]))\n",
    "optimizer = tf.train.GradientDescentOptimizer(learning_rate=0.1)\n",
    "train = optimizer.minimize(loss)"
   ]
  },
  {
   "cell_type": "code",
   "execution_count": 12,
   "metadata": {},
   "outputs": [
    {
     "data": {
      "image/png": "[encoded data removed]",
      "text/plain": [
       "<matplotlib.figure.Figure at 0x181afd1f60>"
      ]
     },
     "metadata": {},
     "output_type": "display_data"
    }
   ],
   "source": [
    "with tf.Session() as sess:\n",
    "    init = tf.global_variables_initializer()\n",
    "    sess.run(init)\n",
    "    \n",
    "    fig = plt.figure()\n",
    "    ax = fig.add_subplot(1,1,1)\n",
    "    ax.scatter(x_data, y_data)\n",
    "    \n",
    "    for i in range(1000):\n",
    "        sess.run(train, feed_dict = {xs : x_data, ys : y_data})\n",
    "        if i % 50 == 0:\n",
    "            try:\n",
    "                lines = ax.lines.remove(lines[0])\n",
    "            except Exception:\n",
    "                pass\n",
    "            preds = sess.run(prediction, feed_dict = {xs : x_data})\n",
    "    lines = ax.plot(x_data, preds, 'r-', lw = 5)\n",
    "#             plt.ion()\n",
    "#             plt.show()\n",
    "#             plt.pause(0.1)\n",
    "#             ax.plot(x_data, preds, 'r-', lw = 5)\n",
    "    plt.ion()\n",
    "    plt.show(block = False)\n",
    "#             print(sess.run(loss, feed_dict = {xs : x_data, ys : y_data}))"
   ]
  },
  {
   "cell_type": "code",
   "execution_count": null,
   "metadata": {
    "collapsed": true
   },
   "outputs": [],
   "source": []
  }
 ],
 "metadata": {
  "kernelspec": {
   "display_name": "Python 3",
   "language": "python",
   "name": "python3"
  },
  "language_info": {
   "codemirror_mode": {
    "name": "ipython",
    "version": 3
   },
   "file_extension": ".py",
   "mimetype": "text/x-python",
   "name": "python",
   "nbconvert_exporter": "python",
   "pygments_lexer": "ipython3",
   "version": "3.6.3"
  }
 },
 "nbformat": 4,
 "nbformat_minor": 2
}
