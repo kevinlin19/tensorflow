{
 "cells": [
  {
   "cell_type": "code",
   "execution_count": 3,
   "metadata": {},
   "outputs": [],
   "source": [
    "import numpy as np\n",
    "import tensorflow as tf\n",
    "import matplotlib.pyplot as plt"
   ]
  },
  {
   "cell_type": "markdown",
   "metadata": {},
   "source": [
    "# Create data"
   ]
  },
  {
   "cell_type": "code",
   "execution_count": 4,
   "metadata": {
    "collapsed": true
   },
   "outputs": [],
   "source": [
    "real_weight = 0.1\n",
    "real_bias = 0.5\n",
    "x = np.random.randn(1000)\n",
    "y = real_weight * x + real_bias"
   ]
  },
  {
   "cell_type": "markdown",
   "metadata": {},
   "source": [
    "## tensorflow structure"
   ]
  },
  {
   "cell_type": "code",
   "execution_count": 5,
   "metadata": {
    "collapsed": true
   },
   "outputs": [],
   "source": [
    "Weights = tf.Variable(tf.random_uniform([1], -1.0, 1.0))\n",
    "Biases = tf.Variable(tf.zeros([1]))\n",
    "y_pred = Weights * x + Biases\n",
    "\n",
    "loss = tf.reduce_mean(tf.square(y - y_pred))\n",
    "optimizer = tf.train.GradientDescentOptimizer(learning_rate = 0.5)\n",
    "train = optimizer.minimize(loss)"
   ]
  },
  {
   "cell_type": "markdown",
   "metadata": {},
   "source": [
    "# initialization"
   ]
  },
  {
   "cell_type": "code",
   "execution_count": 7,
   "metadata": {
    "collapsed": true
   },
   "outputs": [],
   "source": [
    "init = tf.global_variables_initializer()"
   ]
  },
  {
   "cell_type": "markdown",
   "metadata": {},
   "source": [
    "## start train"
   ]
  },
  {
   "cell_type": "code",
   "execution_count": 15,
   "metadata": {},
   "outputs": [
    {
     "name": "stdout",
     "output_type": "stream",
     "text": [
      "0 weight:  [0.12027252] bias:  [0.493762]\n",
      "20 weight:  [0.1] bias:  [0.5]\n",
      "40 weight:  [0.1] bias:  [0.5]\n",
      "60 weight:  [0.1] bias:  [0.5]\n",
      "80 weight:  [0.1] bias:  [0.5]\n",
      "100 weight:  [0.1] bias:  [0.5]\n",
      "120 weight:  [0.1] bias:  [0.5]\n",
      "140 weight:  [0.1] bias:  [0.5]\n",
      "160 weight:  [0.1] bias:  [0.5]\n",
      "180 weight:  [0.1] bias:  [0.5]\n",
      "200 weight:  [0.1] bias:  [0.5]\n"
     ]
    }
   ],
   "source": [
    "with tf.Session() as sess:\n",
    "    sess.run(init)\n",
    "    for step in range(201):\n",
    "        sess.run(train)\n",
    "        if step % 20 == 0:\n",
    "            print(step, 'weight: ',sess.run(Weights), 'bias: ', sess.run(Biases))"
   ]
  },
  {
   "cell_type": "code",
   "execution_count": null,
   "metadata": {
    "collapsed": true
   },
   "outputs": [],
   "source": []
  }
 ],
 "metadata": {
  "kernelspec": {
   "display_name": "Python 3",
   "language": "python",
   "name": "python3"
  },
  "language_info": {
   "codemirror_mode": {
    "name": "ipython",
    "version": 3
   },
   "file_extension": ".py",
   "mimetype": "text/x-python",
   "name": "python",
   "nbconvert_exporter": "python",
   "pygments_lexer": "ipython3",
   "version": "3.6.3"
  }
 },
 "nbformat": 4,
 "nbformat_minor": 2
}
